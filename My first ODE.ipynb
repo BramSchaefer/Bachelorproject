{
 "cells": [
  {
   "cell_type": "code",
   "execution_count": null,
   "metadata": {},
   "outputs": [],
   "source": [
    "import sympy as sp\n",
    "import numpy as np\n",
    "import matplotlib.pyplot as plt\n",
    "from scipy.integrate import solve_ivp\n",
    "import random\n",
    "import pandas as pd\n",
    "sp.init_printing()"
   ]
  },
  {
   "cell_type": "code",
   "execution_count": null,
   "metadata": {},
   "outputs": [],
   "source": [
    "N = 21\n",
    "time = np.arange(0, 40, 1)\n",
    "InitialCondition = [N - 1, 1, 0]\n",
    "\n",
    "beta = 0.7/N\n",
    "gamma = 0.2\n",
    "\n",
    "def ODE(time, y):\n",
    "    Spos, Ipos, Rpos = y\n",
    "    return [-beta*Ipos*Spos, beta*Ipos*Spos - gamma*Ipos, gamma*Ipos]\n",
    "\n",
    "\n",
    "\n",
    "sol = solve_ivp(ODE, (0,40), [N - 1, 1, 0], t_eval = time)"
   ]
  },
  {
   "cell_type": "code",
   "execution_count": null,
   "metadata": {},
   "outputs": [],
   "source": [
    "sol"
   ]
  },
  {
   "cell_type": "code",
   "execution_count": null,
   "metadata": {},
   "outputs": [],
   "source": [
    "Fig_Data = plt.figure()\n",
    "\n",
    "plt.plot(sol['t'], sol['y'][0], label = 'S')\n",
    "plt.plot(sol['t'], sol['y'][1], label = 'I')\n",
    "plt.plot(sol['t'], sol['y'][2], label = 'R')\n",
    "\n",
    "plt.title('', size= 20)\n",
    "plt.ylabel('', size= 20)\n",
    "plt.xlabel('', size= 20)\n",
    "plt.legend(fontsize= 12, loc = 'upper right')\n",
    "plt.tick_params(axis= 'both', which= 'major', labelsize= 14)\n",
    "plt.grid()\n",
    "\n",
    "plt.show()"
   ]
  }
 ],
 "metadata": {
  "kernelspec": {
   "display_name": "Python 3",
   "language": "python",
   "name": "python3"
  },
  "language_info": {
   "codemirror_mode": {
    "name": "ipython",
    "version": 3
   },
   "file_extension": ".py",
   "mimetype": "text/x-python",
   "name": "python",
   "nbconvert_exporter": "python",
   "pygments_lexer": "ipython3",
   "version": "3.7.4"
  }
 },
 "nbformat": 4,
 "nbformat_minor": 2
}
