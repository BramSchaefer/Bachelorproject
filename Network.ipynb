{
 "cells": [
  {
   "cell_type": "code",
   "execution_count": null,
   "metadata": {},
   "outputs": [],
   "source": [
    "# Import used packages\n",
    "%matplotlib notebook\n",
    "import numpy as np\n",
    "from scipy import spatial, optimize\n",
    "import matplotlib.pyplot as plt\n",
    "import random\n",
    "from matplotlib import animation\n",
    "import time"
   ]
  },
  {
   "cell_type": "code",
   "execution_count": null,
   "metadata": {},
   "outputs": [],
   "source": [
    "# Create positions in rectangle of xlen x ylen\n",
    "def randompos(nodes, xLen, yLen):\n",
    "    pos = []\n",
    "    for i in range(nodes):\n",
    "        pos.append([xLen*random.uniform(0, 1), yLen*random.uniform(0, 1)])\n",
    "    return pos\n",
    "\n",
    "# Link nodes using KDtrees\n",
    "def linknodesKDtree(pos, radius):\n",
    "    treePos = spatial.KDTree(pos)\n",
    "    links = treePos.query_ball_tree(other= treePos, r= radius)\n",
    "    for i in range(len(links)):\n",
    "        links[i].remove(i)\n",
    "    return links\n",
    "\n",
    "# Create network in a dictionary structure\n",
    "def createnetwork(nodes, radius, xLen, yLen):\n",
    "    Network = {'nodes': nodes, 'pos': randompos(nodes, xLen, yLen)}\n",
    "    Network['links'] = linknodesKDtree(Network['pos'], radius)\n",
    "    return Network\n",
    "\n",
    "# plot nodes\n",
    "def plotnodes(pos, ax, sizeNodes, colorNodes):\n",
    "    ax.scatter([item[0] for item in pos], [item[1] for item in pos], s= sizeNodes, c= colorNodes, zorder= 2)\n",
    "    \n",
    "#plot edges\n",
    "def plotedges(pos, ax, links, colorEdges, alphaEdges):\n",
    "    xList = []\n",
    "    yList = []\n",
    "    for i in range(len(links)):\n",
    "        for node in links[i]:\n",
    "            if node > i:\n",
    "                xList += [pos[i][0]]\n",
    "                yList += [pos[i][1]]\n",
    "                xList += [pos[node][0]]\n",
    "                yList += [pos[node][1]]\n",
    "                xList += [np.nan]\n",
    "                yList += [np.nan]\n",
    "    ax.plot(xList, yList, color = colorEdges, alpha= alphaEdges, zorder= 1)\n",
    "    \n",
    "# Plot a random graph\n",
    "def plotrandomgraph(nodes, radius, xlen, ylen, sizeNodes, colorNodes, colorEdges, alphaEdges):\n",
    "    Network = createnetwork(nodes, radius, xlen, ylen)\n",
    "    fig, ax = plt.subplots(figsize = [6*xlen, 6*ylen])\n",
    "    plt.axis('off')\n",
    "    plotedges(Network['pos'], ax, Network['sets'], colorEdges, alphaEdges)\n",
    "    plotnodes(Network['pos'], ax, sizeNodes, colorNodes)"
   ]
  },
  {
   "cell_type": "code",
   "execution_count": null,
   "metadata": {},
   "outputs": [],
   "source": [
    "# remove a fraction of removePerc links from the network\n",
    "def removelinks(links, removePerc):\n",
    "    removeN = round(len(links)*removePerc)\n",
    "    for i in range(removeN):\n",
    "        randomNode = random.choice(random.choices(links, weights= map(len, links), k= 1))\n",
    "        randomConnectedNode = random.choice(links[randomNode])\n",
    "        links[randomNode].remove(randomConnectedNode)\n",
    "        links[randomConnectedNode].remove(randomNode)\n",
    "    return links"
   ]
  },
  {
   "cell_type": "code",
   "execution_count": null,
   "metadata": {},
   "outputs": [],
   "source": [
    "radius = np.sqrt(2)\n",
    "timeList = []\n",
    "stepList = [32, 64, 128, 256, 512, 1024, 2048, 4096, 8192]\n",
    "for i in stepList:\n",
    "    startTime = time.time()\n",
    "    for j in range(3):\n",
    "        createnetwork(i, radius, 1, 1)\n",
    "    timeList.append((time.time() - startTime)/5)\n",
    "    print(i)\n",
    "timeList"
   ]
  },
  {
   "cell_type": "code",
   "execution_count": null,
   "metadata": {},
   "outputs": [],
   "source": [
    "def kwadratic(x, a, b, c):\n",
    "    return a*x**2 + b*x + c\n",
    "\n",
    "par, parCov = optimize.curve_fit(function, stepList, timeList)\n",
    "par"
   ]
  },
  {
   "cell_type": "code",
   "execution_count": null,
   "metadata": {},
   "outputs": [],
   "source": [
    "fig = plt.figure()\n",
    "functionList = np.arange(0, 10000, 10)\n",
    "plt.plot(stepList, timeList, 'o', label= 'Data')\n",
    "plt.plot(functionList, kwadratic(functionList, par[0], par[1], par[2]))\n",
    "plt.legend()\n",
    "plt.show()\n",
    "# Kan dit wel sneller dan O(n**2)? van n nodes naar 2n nodes betekend van n-1+n-2+... = (n-1)(n-2)/2 edges naar 2n-1+2n-2+... = (2n-1)(2n-2)/2 edges -> O(n**2)"
   ]
  }
 ],
 "metadata": {
  "kernelspec": {
   "display_name": "Python 3",
   "language": "python",
   "name": "python3"
  },
  "language_info": {
   "codemirror_mode": {
    "name": "ipython",
    "version": 3
   },
   "file_extension": ".py",
   "mimetype": "text/x-python",
   "name": "python",
   "nbconvert_exporter": "python",
   "pygments_lexer": "ipython3",
   "version": "3.7.4"
  }
 },
 "nbformat": 4,
 "nbformat_minor": 2
}
